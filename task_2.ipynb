{
 "cells": [
  {
   "cell_type": "code",
   "execution_count": null,
   "id": "8c8a4995-197e-4335-b63b-c3adef2b15b8",
   "metadata": {},
   "outputs": [],
   "source": []
  },
  {
   "cell_type": "markdown",
   "id": "561ed2f8-36d1-41a4-aa2c-ce00e1062da4",
   "metadata": {},
   "source": [
    "## **Task2** ##"
   ]
  },
  {
   "cell_type": "code",
   "execution_count": 21,
   "id": "62b3e98d-b6a0-4dac-b6e9-231a46f25a53",
   "metadata": {},
   "outputs": [
    {
     "name": "stdin",
     "output_type": "stream",
     "text": [
      "please enter the list of borrowed books (use ';' to separate each entry) Book A - 7;Book B - 21;Book c - 14\n"
     ]
    },
    {
     "name": "stdout",
     "output_type": "stream",
     "text": [
      " The Borrowed Books is  {'Book A': 7, 'Book B': 21, 'Book c': 14}\n",
      " The Most borrowed book is  Book B\n",
      " The Least borrowed book is  Book A\n",
      " The  average number of days books is  14.0\n",
      " The  unique titles of all borrowed books is  {'Book B', 'Book A', 'Book c'}\n",
      " The sorted borrowed books is  [('Book B', 21), ('Book c', 14), ('Book A', 7)]\n"
     ]
    }
   ],
   "source": [
    "\n",
    "\n",
    "books_list=input(\"please enter the list of borrowed books (use ';' to separate each entry)\").split(';') # Book A - 7;Book B - 21;Book c - 14\n",
    "#[Book A - 7,Book B - 21,Book c- 14 ]\n",
    "books_dic={}\n",
    "\n",
    "for n in books_list:\n",
    "    title,days=n.strip().split(\" - \")\n",
    "    books_dic[title]=int(days)  #{'Book A': 7, 'Book B': 21, 'Book c': 14}\n",
    "    \n",
    "most_book = max(books_dic,key=books_dic.get)\n",
    "least_book = min(books_dic,key=books_dic.get)\n",
    " \n",
    "mean=sum(books_dic.values())/len(books_dic) # 42/3=14\n",
    "\n",
    "uniqe_titles=set(books_dic.keys())\n",
    "\n",
    "sorted_books=sorted(books_dic.items(),key=lambda x: x[1], reverse=True)\n",
    "\n",
    "\n",
    "print(\" The Borrowed Books is \",books_dic) #{'Book A': 7, 'Book B': 21, 'Book c': 14}\n",
    "print(\" The Most borrowed book is \",most_book) # Book B\n",
    "print(\" The Least borrowed book is \",least_book) # Book A\n",
    "print(\" The  average number of days books is \",mean) #14\n",
    "print(\" The  unique titles of all borrowed books is \",uniqe_titles) #{'Book B', 'Book A', 'Book c'}\n",
    "print(\" The sorted borrowed books is \",sorted_books) # [('Book B', 21), ('Book c', 14), ('Book A', 7)]\n"
   ]
  },
  {
   "cell_type": "code",
   "execution_count": null,
   "id": "c71f1114-5e3b-420c-abf0-551e94c529b1",
   "metadata": {},
   "outputs": [],
   "source": []
  },
  {
   "cell_type": "code",
   "execution_count": null,
   "id": "13f4d82f-d030-47e8-a224-8330d8d8ec85",
   "metadata": {},
   "outputs": [],
   "source": []
  },
  {
   "cell_type": "code",
   "execution_count": null,
   "id": "6a57579f-7c1b-470a-9506-b581fc090bcd",
   "metadata": {},
   "outputs": [],
   "source": []
  },
  {
   "cell_type": "code",
   "execution_count": null,
   "id": "9b7a958a-fa15-49d9-a65b-37ce9abe30b6",
   "metadata": {},
   "outputs": [],
   "source": []
  },
  {
   "cell_type": "code",
   "execution_count": null,
   "id": "a10b376a-c7b8-4d50-acdb-7441c9a88ccf",
   "metadata": {},
   "outputs": [],
   "source": []
  },
  {
   "cell_type": "code",
   "execution_count": null,
   "id": "41949559-3c96-4f74-b5d8-50cdf487aa6d",
   "metadata": {},
   "outputs": [],
   "source": []
  },
  {
   "cell_type": "code",
   "execution_count": null,
   "id": "8c320c57-a9ff-4605-9337-12954158269d",
   "metadata": {},
   "outputs": [],
   "source": []
  },
  {
   "cell_type": "code",
   "execution_count": null,
   "id": "2443732d-f444-4c16-8c57-bac878ef4404",
   "metadata": {},
   "outputs": [],
   "source": []
  },
  {
   "cell_type": "code",
   "execution_count": null,
   "id": "8d6a7ec5-6671-44f7-894b-257edfdacd56",
   "metadata": {},
   "outputs": [],
   "source": []
  },
  {
   "cell_type": "code",
   "execution_count": null,
   "id": "5f63e61e-fa69-4659-8da3-2cb0d49aa685",
   "metadata": {},
   "outputs": [],
   "source": []
  },
  {
   "cell_type": "code",
   "execution_count": null,
   "id": "bb4c7ea3-fb4a-42a8-a9f7-023043360f51",
   "metadata": {},
   "outputs": [],
   "source": []
  }
 ],
 "metadata": {
  "kernelspec": {
   "display_name": "Python 3 (ipykernel)",
   "language": "python",
   "name": "python3"
  },
  "language_info": {
   "codemirror_mode": {
    "name": "ipython",
    "version": 3
   },
   "file_extension": ".py",
   "mimetype": "text/x-python",
   "name": "python",
   "nbconvert_exporter": "python",
   "pygments_lexer": "ipython3",
   "version": "3.12.4"
  }
 },
 "nbformat": 4,
 "nbformat_minor": 5
}
