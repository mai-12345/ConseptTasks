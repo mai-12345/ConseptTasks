{
 "cells": [
  {
   "cell_type": "code",
   "execution_count": null,
   "id": "a46cc321-d972-4e19-88cd-6243eaa9ac48",
   "metadata": {},
   "outputs": [],
   "source": []
  },
  {
   "cell_type": "markdown",
   "id": "9d396677-bd76-4ae6-87b5-ba3eb9e25afc",
   "metadata": {},
   "source": [
    "## **Task3** ##"
   ]
  },
  {
   "cell_type": "code",
   "execution_count": 1,
   "id": "456af5a8-c779-488a-ada6-0596aa9571f7",
   "metadata": {},
   "outputs": [
    {
     "name": "stdout",
     "output_type": "stream",
     "text": [
      " Welcome to the Scremble Game!\n",
      " Try to guess the orginal word from the scrambeld word :gnamo\n",
      " You have 5 attempts.\n"
     ]
    },
    {
     "name": "stdin",
     "output_type": "stream",
     "text": [
      " Enter your guess :  \n"
     ]
    },
    {
     "name": "stdout",
     "output_type": "stream",
     "text": [
      " Please enter a valid guess!\n"
     ]
    },
    {
     "name": "stdin",
     "output_type": "stream",
     "text": [
      " Enter your guess :  ga,nw\n"
     ]
    },
    {
     "name": "stdout",
     "output_type": "stream",
     "text": [
      " Incorrect! Try again . you have 4 attempts left.\n"
     ]
    },
    {
     "name": "stdin",
     "output_type": "stream",
     "text": [
      " Enter your guess :  mango\n"
     ]
    },
    {
     "name": "stdout",
     "output_type": "stream",
     "text": [
      " Congratulations! you guessed the correct word!\n"
     ]
    }
   ],
   "source": [
    "import random\n",
    "word_list=[\"apple\", \"banana\", \"grape\", \"orange\", \"pineapple\", \"cherry\", \"strawberry\", \"peach\", \"mango\", \"melon\"]\n",
    "word=random.choice(word_list)\n",
    "word_list=list(word)\n",
    "random.shuffle(word_list)\n",
    "scrambeld_word=''.join(word_list)\n",
    "attempts=5\n",
    "print(\" Welcome to the Scremble Game!\")\n",
    "print(f\" Try to guess the orginal word from the scrambeld word :{ scrambeld_word}\")\n",
    "print(f\" You have { attempts} attempts.\")\n",
    "while attempts>0:\n",
    "    guess=input(\" Enter your guess : \").strip()\n",
    "    if not guess:\n",
    "        print(\" Please enter a valid guess!\")\n",
    "        continue\n",
    "\n",
    "    if guess.lower()==word.lower():\n",
    "        print(\" Congratulations! you guessed the correct word!\")\n",
    "        break\n",
    "\n",
    "    else:\n",
    "        attempts -=1\n",
    "        if attempts>0:\n",
    "            print(f\" Incorrect! Try again . you have {attempts} attempts left.\")\n",
    "\n",
    "        else:\n",
    "            print(f\" You're out of attempts! the correct ward was: {word}\")\n",
    "    "
   ]
  },
  {
   "cell_type": "code",
   "execution_count": null,
   "id": "2c969535-7fe4-40d0-9ba8-4d7942b86f6e",
   "metadata": {},
   "outputs": [],
   "source": []
  }
 ],
 "metadata": {
  "kernelspec": {
   "display_name": "Python 3 (ipykernel)",
   "language": "python",
   "name": "python3"
  },
  "language_info": {
   "codemirror_mode": {
    "name": "ipython",
    "version": 3
   },
   "file_extension": ".py",
   "mimetype": "text/x-python",
   "name": "python",
   "nbconvert_exporter": "python",
   "pygments_lexer": "ipython3",
   "version": "3.12.4"
  }
 },
 "nbformat": 4,
 "nbformat_minor": 5
}
