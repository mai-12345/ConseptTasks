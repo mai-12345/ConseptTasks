{
 "cells": [
  {
   "cell_type": "code",
   "execution_count": null,
   "id": "8bc5d484-c2da-40c2-845b-6010422a2b8c",
   "metadata": {},
   "outputs": [],
   "source": []
  },
  {
   "cell_type": "markdown",
   "id": "5e98597d-2f9e-4a2e-9a5e-57fc6ee1abf9",
   "metadata": {},
   "source": [
    "## **Task1** ##"
   ]
  },
  {
   "cell_type": "code",
   "execution_count": 2,
   "id": "1f1d071a-c5d8-4682-a36d-51d374986a1f",
   "metadata": {},
   "outputs": [
    {
     "name": "stdin",
     "output_type": "stream",
     "text": [
      "Enter your steps 10 5 3 7 2 4\n"
     ]
    },
    {
     "name": "stdout",
     "output_type": "stream",
     "text": [
      "Your Steps Is  [10, 5, 3, 7, 2, 4]\n",
      "The Max Number Is  10\n",
      "The min Number Is  2\n",
      "The mean about steps is  5.166666666666667\n",
      " The Sorted Steps is :  [10, 7, 5, 4, 3, 2]\n"
     ]
    }
   ],
   "source": [
    "steps=input(\"Enter your steps\") # 10 5 3 7 2 4\n",
    "\n",
    "steps=steps.split(' ')\n",
    "\n",
    "steps=list(map(int,steps))\n",
    "\n",
    "mean=sum(steps)/len(steps) \n",
    "\n",
    "sorted_steps=sorted(steps , reverse=True) \n",
    "\n",
    "print(\"Your Steps Is \",steps) \n",
    "print(\"The Max Number Is \",max(steps)) \n",
    "print(\"The min Number Is \",min(steps)) \n",
    "print(\"The mean about steps is \",mean) \n",
    "print(\" The Sorted Steps is : \",sorted_steps) "
   ]
  },
  {
   "cell_type": "code",
   "execution_count": null,
   "id": "f79784e7-5d01-4137-a2ff-4cd03b573669",
   "metadata": {},
   "outputs": [],
   "source": []
  },
  {
   "cell_type": "code",
   "execution_count": null,
   "id": "c3e99c03-aee9-46b3-b250-282fe846ab12",
   "metadata": {},
   "outputs": [],
   "source": []
  },
  {
   "cell_type": "code",
   "execution_count": null,
   "id": "c8dbb2f7-4016-4e5f-8b91-feaf89a1a3e2",
   "metadata": {},
   "outputs": [],
   "source": []
  }
 ],
 "metadata": {
  "kernelspec": {
   "display_name": "Python 3 (ipykernel)",
   "language": "python",
   "name": "python3"
  },
  "language_info": {
   "codemirror_mode": {
    "name": "ipython",
    "version": 3
   },
   "file_extension": ".py",
   "mimetype": "text/x-python",
   "name": "python",
   "nbconvert_exporter": "python",
   "pygments_lexer": "ipython3",
   "version": "3.12.4"
  }
 },
 "nbformat": 4,
 "nbformat_minor": 5
}
